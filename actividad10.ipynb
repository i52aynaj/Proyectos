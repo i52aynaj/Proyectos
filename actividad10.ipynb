{
  "nbformat": 4,
  "nbformat_minor": 0,
  "metadata": {
    "colab": {
      "name": "actividad10.ipynb",
      "provenance": [],
      "collapsed_sections": [],
      "authorship_tag": "ABX9TyPt1s5ex1N6SOg0iZOQj9TD",
      "include_colab_link": true
    },
    "kernelspec": {
      "name": "python3",
      "display_name": "Python 3"
    }
  },
  "cells": [
    {
      "cell_type": "markdown",
      "metadata": {
        "id": "view-in-github",
        "colab_type": "text"
      },
      "source": [
        "<a href=\"https://colab.research.google.com/github/i52aynaj/Proyectos/blob/master/actividad10.ipynb\" target=\"_parent\"><img src=\"https://colab.research.google.com/assets/colab-badge.svg\" alt=\"Open In Colab\"/></a>"
      ]
    },
    {
      "cell_type": "code",
      "metadata": {
        "id": "g6bZPCRc---B",
        "colab_type": "code",
        "colab": {
          "base_uri": "https://localhost:8080/",
          "height": 578
        },
        "outputId": "05df8f6d-9d29-441d-9834-a2f357202a3c"
      },
      "source": [
        "from __future__ import print_function\n",
        "\n",
        "from keras.preprocessing import sequence\n",
        "from keras.models import Sequential\n",
        "from keras.layers import Dense, Embedding\n",
        "from keras.layers import GlobalAveragePooling1D\n",
        "from keras.datasets import imdb\n",
        "\n",
        "max_features = 20000\n",
        "# cut texts after this number of words (among top max_features most common words)\n",
        "maxlen = 80\n",
        "batch_size = 32\n",
        "\n",
        "\n",
        "(x_train, y_train), (x_test, y_test) = imdb.load_data(num_words=max_features)\n",
        "print(len(x_train), 'train sequences')\n",
        "print(len(x_test), 'test sequences')\n",
        "\n",
        "print('Pad sequences (samples x time)')\n",
        "x_train = sequence.pad_sequences(x_train, maxlen=maxlen)\n",
        "x_test = sequence.pad_sequences(x_test, maxlen=maxlen)\n",
        "print('x_train shape:', x_train.shape)\n",
        "print('x_test shape:', x_test.shape)\n",
        "\n",
        "print('Build model...')\n",
        "model = Sequential()\n",
        "model.add(Embedding(max_features, 16))\n",
        "model.add(GlobalAveragePooling1D())\n",
        "model.add(Dense(1))\n",
        "\n",
        "# try using different optimizers and different optimizer configs\n",
        "model.compile(optimizer='adam',\n",
        "              loss='binary_crossentropy',\n",
        "              metrics=['accuracy'])\n",
        "\n",
        "print('Train...')\n",
        "model.fit(x_train, y_train,\n",
        "          batch_size=batch_size,\n",
        "          epochs=10,\n",
        "          validation_data=(x_test, y_test))\n",
        "score, acc = model.evaluate(x_test, y_test,\n",
        "                            batch_size=batch_size)\n",
        "print('Test score:', score)\n",
        "print('Test accuracy:', acc)"
      ],
      "execution_count": 4,
      "outputs": [
        {
          "output_type": "stream",
          "text": [
            "25000 train sequences\n",
            "25000 test sequences\n",
            "Pad sequences (samples x time)\n",
            "x_train shape: (25000, 80)\n",
            "x_test shape: (25000, 80)\n",
            "Build model...\n",
            "Train...\n"
          ],
          "name": "stdout"
        },
        {
          "output_type": "stream",
          "text": [
            "/usr/local/lib/python3.6/dist-packages/tensorflow/python/framework/indexed_slices.py:434: UserWarning: Converting sparse IndexedSlices to a dense Tensor of unknown shape. This may consume a large amount of memory.\n",
            "  \"Converting sparse IndexedSlices to a dense Tensor of unknown shape. \"\n"
          ],
          "name": "stderr"
        },
        {
          "output_type": "stream",
          "text": [
            "Train on 25000 samples, validate on 25000 samples\n",
            "Epoch 1/10\n",
            "25000/25000 [==============================] - 5s 193us/step - loss: 0.8538 - accuracy: 0.5556 - val_loss: 0.6225 - val_accuracy: 0.7595\n",
            "Epoch 2/10\n",
            "25000/25000 [==============================] - 5s 188us/step - loss: 0.5293 - accuracy: 0.8307 - val_loss: 0.4607 - val_accuracy: 0.8212\n",
            "Epoch 3/10\n",
            "25000/25000 [==============================] - 5s 190us/step - loss: 0.3811 - accuracy: 0.8547 - val_loss: 0.4105 - val_accuracy: 0.8292\n",
            "Epoch 4/10\n",
            "25000/25000 [==============================] - 5s 191us/step - loss: 0.3201 - accuracy: 0.8652 - val_loss: 0.4085 - val_accuracy: 0.8209\n",
            "Epoch 5/10\n",
            "25000/25000 [==============================] - 5s 189us/step - loss: 0.2790 - accuracy: 0.8552 - val_loss: 0.4343 - val_accuracy: 0.8026\n",
            "Epoch 6/10\n",
            "25000/25000 [==============================] - 5s 189us/step - loss: 0.2470 - accuracy: 0.8366 - val_loss: 0.4852 - val_accuracy: 0.7722\n",
            "Epoch 7/10\n",
            "25000/25000 [==============================] - 5s 187us/step - loss: 0.2262 - accuracy: 0.8098 - val_loss: 0.5519 - val_accuracy: 0.7373\n",
            "Epoch 8/10\n",
            "25000/25000 [==============================] - 5s 189us/step - loss: 0.2020 - accuracy: 0.7799 - val_loss: 0.5924 - val_accuracy: 0.7091\n",
            "Epoch 9/10\n",
            "25000/25000 [==============================] - 5s 185us/step - loss: 0.1833 - accuracy: 0.7411 - val_loss: 0.6559 - val_accuracy: 0.6706\n",
            "Epoch 10/10\n",
            "25000/25000 [==============================] - 5s 186us/step - loss: 0.1642 - accuracy: 0.7040 - val_loss: 0.7397 - val_accuracy: 0.6245\n",
            "25000/25000 [==============================] - 1s 20us/step\n",
            "Test score: 0.739658824915886\n",
            "Test accuracy: 0.6245200037956238\n"
          ],
          "name": "stdout"
        }
      ]
    }
  ]
}